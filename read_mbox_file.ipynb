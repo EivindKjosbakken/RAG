{
 "cells": [
  {
   "cell_type": "markdown",
   "metadata": {},
   "source": [
    "# Code to read mbox file (downloaded from google)"
   ]
  },
  {
   "cell_type": "markdown",
   "metadata": {},
   "source": [
    "Code from https://stackoverflow.com/questions/59681461/read-a-big-mbox-file-with-python/59682472#59682472"
   ]
  },
  {
   "cell_type": "code",
   "execution_count": 3,
   "metadata": {},
   "outputs": [],
   "source": [
    "import pandas as pd\n",
    "import email\n",
    "from email.policy import default\n",
    "from tqdm import tqdm\n",
    "from bs4 import BeautifulSoup #to clean the payload"
   ]
  },
  {
   "cell_type": "code",
   "execution_count": 4,
   "metadata": {},
   "outputs": [],
   "source": [
    "\n",
    "\n",
    "class MboxReader:\n",
    "    def __init__(self, filename):\n",
    "        self.handle = open(filename, 'rb')\n",
    "        assert self.handle.readline().startswith(b'From ')\n",
    "\n",
    "    def __enter__(self):\n",
    "        return self\n",
    "\n",
    "    def __exit__(self, exc_type, exc_value, exc_traceback):\n",
    "        self.handle.close()\n",
    "\n",
    "    def __iter__(self):\n",
    "        return iter(self.__next__())\n",
    "\n",
    "    def __next__(self):\n",
    "        lines = []\n",
    "        while True:\n",
    "            line = self.handle.readline()\n",
    "            if line == b'' or line.startswith(b'From '):\n",
    "                yield email.message_from_bytes(b''.join(lines), policy=default)\n",
    "                if line == b'':\n",
    "                    break\n",
    "                lines = []\n",
    "                continue\n",
    "            lines.append(line)"
   ]
  },
  {
   "cell_type": "markdown",
   "metadata": {},
   "source": [
    "Possible keys from message ['X-GM-THRID', 'X-Gmail-Labels', 'Delivered-To', 'Received', 'X-Received',\n",
    " 'ARC-Seal', 'ARC-Message-Signature', 'ARC-Authentication-Results', \n",
    "'Return-Path', 'Received', 'Received-SPF', 'Authentication-Results', \n",
    "'DKIM-Signature', 'X-Google-DKIM-Signature', 'X-Gm-Message-State', \n",
    "'X-Google-Smtp-Source', 'MIME-Version', 'X-Received', 'Date', 'Reply-To',\n",
    " 'X-Google-Id', 'Precedence', 'List-Unsubscribe', 'Feedback-ID', 'List-Id',\n",
    " 'X-Notifications', 'X-Notifications-Bounce-Info', 'Message-ID', 'Subject',\n",
    " 'From', 'To', 'Content-Type']"
   ]
  },
  {
   "cell_type": "code",
   "execution_count": 5,
   "metadata": {},
   "outputs": [],
   "source": [
    "possible_keys =  ['X-GM-THRID', 'X-Gmail-Labels', 'Delivered-To', 'Received', 'X-Received',\n",
    " 'ARC-Seal', 'ARC-Message-Signature', 'ARC-Authentication-Results', \n",
    "'Return-Path', 'Received', 'Received-SPF', 'Authentication-Results', \n",
    "'DKIM-Signature', 'X-Google-DKIM-Signature', 'X-Gm-Message-State', \n",
    "'X-Google-Smtp-Source', 'MIME-Version', 'X-Received', 'Date', 'Reply-To',\n",
    " 'X-Google-Id', 'Precedence', 'List-Unsubscribe', 'Feedback-ID', 'List-Id',\n",
    " 'X-Notifications', 'X-Notifications-Bounce-Info', 'Message-ID', 'Subject',\n",
    " 'From', 'To', 'Content-Type']"
   ]
  },
  {
   "cell_type": "code",
   "execution_count": null,
   "metadata": {},
   "outputs": [],
   "source": []
  },
  {
   "cell_type": "code",
   "execution_count": 9,
   "metadata": {},
   "outputs": [
    {
     "name": "stderr",
     "output_type": "stream",
     "text": [
      "58it [00:00, 73.17it/s] \n"
     ]
    }
   ],
   "source": [
    "path = r\"C:\\Users\\eivin\\Documents\\Programming\\RAG\\All mail Including Spam and Trash.mbox\"\n",
    "\n",
    "mbox = MboxReader(path)\n",
    "\n",
    "MAX_EMAILS = 5\n",
    "current_mails = 0\n",
    "\n",
    "mail_from_arr, mail_date_arr, mail_body_arr = [],[],[],[]\n",
    "for idx,message in tqdm(enumerate(mbox)):\n",
    "    # print(message.keys())\n",
    "    mail_from = f\"{str(message['From'])}\\n\".replace('\"','').replace('\\n','').strip()\n",
    "    mail_date = f\"{str(message['Date'])}\\n\".replace('\"','').replace('\\n','').strip()\n",
    "    payload = message.get_payload(decode=True)\n",
    "    if payload:\n",
    "        current_mails += 1\n",
    "        if current_mails > max_mails:\n",
    "            break\n",
    "        soup = BeautifulSoup(payload, 'html.parser')\n",
    "        body_text = soup.get_text().replace('\"','').replace(\"\\n\", \"\").replace(\"\\t\", \"\").strip()\n",
    "        mail_from_arr.append(mail_from)\n",
    "        mail_date_arr.append(mail_date)\n",
    "        mail_body_arr.append(body_text)"
   ]
  },
  {
   "cell_type": "code",
   "execution_count": 7,
   "metadata": {},
   "outputs": [],
   "source": [
    "df = pd.DataFrame({'From':mail_from_arr, 'Date':mail_date_arr, 'Body':mail_body_arr})\n",
    "df.to_pickle(\"df_mail.pkl\")\n"
   ]
  },
  {
   "cell_type": "code",
   "execution_count": 10,
   "metadata": {},
   "outputs": [],
   "source": []
  }
 ],
 "metadata": {
  "kernelspec": {
   "display_name": "venv",
   "language": "python",
   "name": "python3"
  },
  "language_info": {
   "codemirror_mode": {
    "name": "ipython",
    "version": 3
   },
   "file_extension": ".py",
   "mimetype": "text/x-python",
   "name": "python",
   "nbconvert_exporter": "python",
   "pygments_lexer": "ipython3",
   "version": "3.8.5"
  }
 },
 "nbformat": 4,
 "nbformat_minor": 2
}
